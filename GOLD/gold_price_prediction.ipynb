{
 "cells": [
  {
   "cell_type": "markdown",
   "id": "cb5c9737",
   "metadata": {},
   "source": [
    "Import Libraries\n"
   ]
  },
  {
   "cell_type": "code",
   "execution_count": 7,
   "id": "88887248",
   "metadata": {},
   "outputs": [],
   "source": [
    "import pandas as pd"
   ]
  },
  {
   "cell_type": "markdown",
   "id": "09eef7e3",
   "metadata": {},
   "source": [
    "Read the file\n"
   ]
  },
  {
   "cell_type": "code",
   "execution_count": 8,
   "id": "f9b3b24e",
   "metadata": {},
   "outputs": [
    {
     "name": "stdout",
     "output_type": "stream",
     "text": [
      "           Date Closing price   XAU/USD (Troy Ounce=31.1035 grams)\n",
      "0   Apr 3, 2025                                           3,130.60\n",
      "1   Apr 2, 2025                                           3,139.90\n",
      "2   Apr 1, 2025                                           3,118.90\n",
      "3  Mar 31, 2025                                           3,122.80\n",
      "4  Mar 28, 2025                                           3,086.50\n"
     ]
    }
   ],
   "source": [
    "path=\"D:/ALL/Gold price/historical_gold_price.csv\"\n",
    "ds=pd.read_csv(path).copy()\n",
    "# print(ds.columns)\n",
    "df=ds[[\"Date\",\"Closing price   XAU/USD (Troy Ounce=31.1035 grams)\"]].copy()\n",
    "print(df.head(5))\n"
   ]
  },
  {
   "cell_type": "markdown",
   "id": "f0d3f0bb",
   "metadata": {},
   "source": [
    "Null values check\n"
   ]
  },
  {
   "cell_type": "code",
   "execution_count": 9,
   "id": "6145b7fc",
   "metadata": {},
   "outputs": [
    {
     "name": "stdout",
     "output_type": "stream",
     "text": [
      "<class 'pandas.core.frame.DataFrame'>\n",
      "RangeIndex: 6170 entries, 0 to 6169\n",
      "Data columns (total 2 columns):\n",
      " #   Column                                              Non-Null Count  Dtype \n",
      "---  ------                                              --------------  ----- \n",
      " 0   Date                                                6170 non-null   object\n",
      " 1   Closing price   XAU/USD (Troy Ounce=31.1035 grams)  6170 non-null   object\n",
      "dtypes: object(2)\n",
      "memory usage: 96.5+ KB\n",
      "None\n",
      "       Date  Closing price   XAU/USD (Troy Ounce=31.1035 grams)\n",
      "0     False                                              False \n",
      "1     False                                              False \n",
      "2     False                                              False \n",
      "3     False                                              False \n",
      "4     False                                              False \n",
      "...     ...                                                ... \n",
      "6165  False                                              False \n",
      "6166  False                                              False \n",
      "6167  False                                              False \n",
      "6168  False                                              False \n",
      "6169  False                                              False \n",
      "\n",
      "[6170 rows x 2 columns]\n",
      "               Date Closing price   XAU/USD (Troy Ounce=31.1035 grams)\n",
      "count          6170                                               6170\n",
      "unique         6170                                               4918\n",
      "top     Apr 3, 2025                                              273.9\n",
      "freq              1                                                  6\n"
     ]
    }
   ],
   "source": [
    "null=df.isnull()\n",
    "print(df.info())\n",
    "print(null)\n",
    "print(df.describe())"
   ]
  },
  {
   "cell_type": "markdown",
   "id": "cacf79dc",
   "metadata": {},
   "source": [
    "Datetime features Extraction\n"
   ]
  },
  {
   "cell_type": "code",
   "execution_count": 10,
   "id": "6f1d9720",
   "metadata": {},
   "outputs": [
    {
     "name": "stdout",
     "output_type": "stream",
     "text": [
      "        Date  year  month  day  weekday  is_weekend  week  is_leap_year\n",
      "0 2025-04-03  2025   2025    3        3       False    14         False\n",
      "1 2025-04-02  2025   2025    2        2       False    14         False\n",
      "2 2025-04-01  2025   2025    1        1       False    14         False\n",
      "3 2025-03-31  2025   2025   31        0       False    14         False\n",
      "4 2025-03-28  2025   2025   28        4       False    13         False\n"
     ]
    }
   ],
   "source": [
    "df[\"Date\"]=pd.to_datetime(df[\"Date\"])\n",
    "df[\"year\"]=df[\"Date\"].dt.year\n",
    "df[\"month\"]=df[\"Date\"].dt.year\n",
    "df[\"day\"]=df[\"Date\"].dt.day\n",
    "df[\"weekday\"]=df[\"Date\"].dt.dayofweek\n",
    "df[\"is_weekend\"]=df[\"Date\"].dt.dayofweek >=5\n",
    "df[\"week\"]=df[\"Date\"].dt.isocalendar().week\n",
    "df[\"is_leap_year\"]=df[\"Date\"].dt.is_leap_year\n",
    "extract_date=df[[\"Date\",\"year\",\"month\",\"day\",\"weekday\",\"is_weekend\",\"week\",\"is_leap_year\"]].copy()\n",
    "print(extract_date.head())"
   ]
  },
  {
   "cell_type": "markdown",
   "id": "a1860535",
   "metadata": {},
   "source": [
    "Convert it Integer\n"
   ]
  },
  {
   "cell_type": "code",
   "execution_count": 12,
   "id": "c7eeb6e0",
   "metadata": {},
   "outputs": [
    {
     "name": "stdout",
     "output_type": "stream",
     "text": [
      "Date            datetime64[ns]\n",
      "year                     int64\n",
      "month                    int64\n",
      "day                      int64\n",
      "weekday                  int64\n",
      "is_weekend               int32\n",
      "week                     int32\n",
      "is_leap_year             int32\n",
      "dtype: object\n"
     ]
    }
   ],
   "source": [
    "extract_date[\"week\"]=extract_date[\"week\"].astype(int)\n",
    "extract_date[\"is_weekend\"]=extract_date[\"is_weekend\"].astype(int)\n",
    "extract_date[\"is_leap_year\"]=extract_date[\"is_leap_year\"].astype(int)\n",
    "print(extract_date.dtypes)"
   ]
  },
  {
   "cell_type": "markdown",
   "id": "6b2d9fd5",
   "metadata": {},
   "source": [
    "Features and Target Segregate\n"
   ]
  },
  {
   "cell_type": "code",
   "execution_count": 75,
   "id": "93f7984f",
   "metadata": {},
   "outputs": [
    {
     "name": "stdout",
     "output_type": "stream",
     "text": [
      "   year  month  day  weekday  is_weekend  week  is_leap_year\n",
      "0  2025   2025    3        3           0    14             0\n",
      "1  2025   2025    2        2           0    14             0\n",
      "2  2025   2025    1        1           0    14             0\n",
      "3  2025   2025   31        0           0    14             0\n",
      "4  2025   2025   28        4           0    13             0\n",
      "0    3,130.60\n",
      "1    3,139.90\n",
      "2    3,118.90\n",
      "3    3,122.80\n",
      "4    3,086.50\n",
      "Name: Closing price   XAU/USD (Troy Ounce=31.1035 grams), dtype: object\n"
     ]
    }
   ],
   "source": [
    "x=extract_date.drop(columns=[\"Date\"])\n",
    "print(x.head())\n",
    "y=df[\"Closing price   XAU/USD (Troy Ounce=31.1035 grams)\"]\n",
    "print(y.head())"
   ]
  },
  {
   "cell_type": "markdown",
   "id": "7b1b932a",
   "metadata": {},
   "source": [
    "Train(80%) and Test (20%) split\n"
   ]
  },
  {
   "cell_type": "code",
   "execution_count": 76,
   "id": "dfd67173",
   "metadata": {},
   "outputs": [
    {
     "name": "stdout",
     "output_type": "stream",
     "text": [
      "(4936, 7)\n",
      "(4936,)\n",
      "(1234, 7)\n",
      "(1234,)\n"
     ]
    }
   ],
   "source": [
    "from sklearn.model_selection import train_test_split\n",
    "x_train,x_test,y_train,y_test=train_test_split(x,y,test_size=0.20,random_state=0)\n",
    "print(x_train.shape)\n",
    "print(y_train.shape)\n",
    "print(x_test.shape)\n",
    "print(y_test.shape)"
   ]
  },
  {
   "cell_type": "markdown",
   "id": "3b5d7480",
   "metadata": {},
   "source": [
    "Scalling Features convert into specific range (0-1)\n"
   ]
  },
  {
   "cell_type": "code",
   "execution_count": 77,
   "id": "330a0855",
   "metadata": {},
   "outputs": [
    {
     "name": "stdout",
     "output_type": "stream",
     "text": [
      "[[-1.05290248 -1.05290248 -0.53783876 ...  0.         -1.64517618\n",
      "  -0.58608432]\n",
      " [-0.49026021 -0.49026021 -0.19534644 ...  0.          1.62320356\n",
      "  -0.58608432]\n",
      " [-0.77158134 -0.77158134 -1.45115162 ...  0.         -0.84475665\n",
      "  -0.58608432]\n",
      " ...\n",
      " [-0.20893908 -0.20893908  0.26130998 ...  0.         -0.7113534\n",
      "  -0.58608432]\n",
      " [ 0.07238206  0.07238206  0.71796641 ...  0.         -0.37784526\n",
      "  -0.58608432]\n",
      " [ 0.91634546  0.91634546  0.83213052 ...  0.          0.4892759\n",
      "  -0.58608432]]\n",
      "(1234, 7)\n"
     ]
    }
   ],
   "source": [
    "from sklearn.preprocessing import StandardScaler\n",
    "scale=StandardScaler()\n",
    "x_train_scale=scale.fit_transform(x_train)\n",
    "x_test_scale=scale.transform(x_test)\n",
    "print(x_test_scale)\n",
    "print(x_test_scale.shape)"
   ]
  },
  {
   "cell_type": "markdown",
   "id": "be053c1f",
   "metadata": {},
   "source": [
    "REGRESSION ALGORITHMS\n"
   ]
  },
  {
   "cell_type": "code",
   "execution_count": 78,
   "id": "d1eccb60",
   "metadata": {},
   "outputs": [],
   "source": [
    "\n",
    "from sklearn.linear_model import LinearRegression\n",
    "from sklearn.preprocessing import PolynomialFeatures\n",
    "from xgboost import XGBRegressor\n",
    "from sklearn.tree import DecisionTreeRegressor\n",
    "from sklearn.ensemble import RandomForestRegressor,GradientBoostingRegressor\n",
    "from sklearn.svm import SVR\n",
    "from sklearn.neighbors import KNeighborsRegressor"
   ]
  },
  {
   "cell_type": "code",
   "execution_count": 79,
   "id": "cb1ac802",
   "metadata": {},
   "outputs": [
    {
     "name": "stdout",
     "output_type": "stream",
     "text": [
      "(4936, 36)\n",
      "(1234, 36)\n"
     ]
    }
   ],
   "source": [
    "poly=PolynomialFeatures(degree=2)\n",
    "x_train_poly=poly.fit_transform(x_train)\n",
    "x_test_poly=poly.transform(x_test)\n",
    "print(x_train_poly.shape)\n",
    "print(x_test_poly.shape)"
   ]
  },
  {
   "cell_type": "markdown",
   "id": "916d294c",
   "metadata": {},
   "source": [
    "Regression Models\n"
   ]
  },
  {
   "cell_type": "code",
   "execution_count": 80,
   "id": "50185f9f",
   "metadata": {},
   "outputs": [],
   "source": [
    "linear_model=LinearRegression()\n",
    "poly_model=LinearRegression()\n",
    "xgb_model=XGBRegressor(n_estimators=100)\n",
    "tree_model=DecisionTreeRegressor()\n",
    "forest_model=RandomForestRegressor(n_estimators=100)\n",
    "gradient_model=GradientBoostingRegressor(n_estimators=100)\n",
    "vector_model=SVR()\n",
    "knn_model=KNeighborsRegressor(n_neighbors=5)\n"
   ]
  },
  {
   "cell_type": "markdown",
   "id": "4ef70c47",
   "metadata": {},
   "source": [
    "ALL models in one file\n"
   ]
  },
  {
   "cell_type": "code",
   "execution_count": 81,
   "id": "1dadba12",
   "metadata": {},
   "outputs": [],
   "source": [
    "Models={\"LinearRegression\":linear_model,\n",
    "         \"PolynomialFeatures\":poly_model,\n",
    "         \"XGBRegressor\":xgb_model,\n",
    "         \"DecisionTreeRegressor\":tree_model,\n",
    "         \"RandomForestRegressor\":forest_model,\n",
    "         \"GradientBoostingRegressor\":gradient_model,\n",
    "         \"SVR\":vector_model,\n",
    "         \"KNeighborsRegressor\":knn_model}"
   ]
  },
  {
   "cell_type": "code",
   "execution_count": 87,
   "id": "590e2c0c",
   "metadata": {},
   "outputs": [
    {
     "name": "stdout",
     "output_type": "stream",
     "text": [
      "year            int64\n",
      "month           int64\n",
      "day             int64\n",
      "weekday         int64\n",
      "is_weekend      int32\n",
      "week            int32\n",
      "is_leap_year    int32\n",
      "dtype: object\n",
      "year            int64\n",
      "month           int64\n",
      "day             int64\n",
      "weekday         int64\n",
      "is_weekend      int32\n",
      "week            int32\n",
      "is_leap_year    int32\n",
      "dtype: object\n",
      "float64\n",
      "float64\n"
     ]
    }
   ],
   "source": [
    "print(x_train.dtypes)\n",
    "print(x_test.dtypes)\n",
    "print(y_train.dtypes)\n",
    "print(y_test.dtypes)"
   ]
  },
  {
   "cell_type": "markdown",
   "id": "c4eb82ea",
   "metadata": {},
   "source": [
    "Remove Currency's commas\n"
   ]
  },
  {
   "cell_type": "code",
   "execution_count": 88,
   "id": "3bdbc588",
   "metadata": {},
   "outputs": [
    {
     "name": "stdout",
     "output_type": "stream",
     "text": [
      "float64\n",
      "float64\n"
     ]
    }
   ],
   "source": [
    "# print(y_train.head())\n",
    "# y_train=y_train.str.replace(\",\",\"\")\n",
    "# y_train=y_train.astype(float)\n",
    "# y_test=y_test.str.replace(\",\",\"\")\n",
    "# y_test=y_test.astype(float)\n",
    "print(y_train.dtypes)\n",
    "print(y_test.dtypes)\n"
   ]
  },
  {
   "cell_type": "markdown",
   "id": "595bd2fc",
   "metadata": {},
   "source": [
    "Train the models\n"
   ]
  },
  {
   "cell_type": "code",
   "execution_count": 89,
   "id": "b40c991f",
   "metadata": {},
   "outputs": [
    {
     "data": {
      "text/html": [
       "<style>#sk-container-id-4 {\n",
       "  /* Definition of color scheme common for light and dark mode */\n",
       "  --sklearn-color-text: #000;\n",
       "  --sklearn-color-text-muted: #666;\n",
       "  --sklearn-color-line: gray;\n",
       "  /* Definition of color scheme for unfitted estimators */\n",
       "  --sklearn-color-unfitted-level-0: #fff5e6;\n",
       "  --sklearn-color-unfitted-level-1: #f6e4d2;\n",
       "  --sklearn-color-unfitted-level-2: #ffe0b3;\n",
       "  --sklearn-color-unfitted-level-3: chocolate;\n",
       "  /* Definition of color scheme for fitted estimators */\n",
       "  --sklearn-color-fitted-level-0: #f0f8ff;\n",
       "  --sklearn-color-fitted-level-1: #d4ebff;\n",
       "  --sklearn-color-fitted-level-2: #b3dbfd;\n",
       "  --sklearn-color-fitted-level-3: cornflowerblue;\n",
       "\n",
       "  /* Specific color for light theme */\n",
       "  --sklearn-color-text-on-default-background: var(--sg-text-color, var(--theme-code-foreground, var(--jp-content-font-color1, black)));\n",
       "  --sklearn-color-background: var(--sg-background-color, var(--theme-background, var(--jp-layout-color0, white)));\n",
       "  --sklearn-color-border-box: var(--sg-text-color, var(--theme-code-foreground, var(--jp-content-font-color1, black)));\n",
       "  --sklearn-color-icon: #696969;\n",
       "\n",
       "  @media (prefers-color-scheme: dark) {\n",
       "    /* Redefinition of color scheme for dark theme */\n",
       "    --sklearn-color-text-on-default-background: var(--sg-text-color, var(--theme-code-foreground, var(--jp-content-font-color1, white)));\n",
       "    --sklearn-color-background: var(--sg-background-color, var(--theme-background, var(--jp-layout-color0, #111)));\n",
       "    --sklearn-color-border-box: var(--sg-text-color, var(--theme-code-foreground, var(--jp-content-font-color1, white)));\n",
       "    --sklearn-color-icon: #878787;\n",
       "  }\n",
       "}\n",
       "\n",
       "#sk-container-id-4 {\n",
       "  color: var(--sklearn-color-text);\n",
       "}\n",
       "\n",
       "#sk-container-id-4 pre {\n",
       "  padding: 0;\n",
       "}\n",
       "\n",
       "#sk-container-id-4 input.sk-hidden--visually {\n",
       "  border: 0;\n",
       "  clip: rect(1px 1px 1px 1px);\n",
       "  clip: rect(1px, 1px, 1px, 1px);\n",
       "  height: 1px;\n",
       "  margin: -1px;\n",
       "  overflow: hidden;\n",
       "  padding: 0;\n",
       "  position: absolute;\n",
       "  width: 1px;\n",
       "}\n",
       "\n",
       "#sk-container-id-4 div.sk-dashed-wrapped {\n",
       "  border: 1px dashed var(--sklearn-color-line);\n",
       "  margin: 0 0.4em 0.5em 0.4em;\n",
       "  box-sizing: border-box;\n",
       "  padding-bottom: 0.4em;\n",
       "  background-color: var(--sklearn-color-background);\n",
       "}\n",
       "\n",
       "#sk-container-id-4 div.sk-container {\n",
       "  /* jupyter's `normalize.less` sets `[hidden] { display: none; }`\n",
       "     but bootstrap.min.css set `[hidden] { display: none !important; }`\n",
       "     so we also need the `!important` here to be able to override the\n",
       "     default hidden behavior on the sphinx rendered scikit-learn.org.\n",
       "     See: https://github.com/scikit-learn/scikit-learn/issues/21755 */\n",
       "  display: inline-block !important;\n",
       "  position: relative;\n",
       "}\n",
       "\n",
       "#sk-container-id-4 div.sk-text-repr-fallback {\n",
       "  display: none;\n",
       "}\n",
       "\n",
       "div.sk-parallel-item,\n",
       "div.sk-serial,\n",
       "div.sk-item {\n",
       "  /* draw centered vertical line to link estimators */\n",
       "  background-image: linear-gradient(var(--sklearn-color-text-on-default-background), var(--sklearn-color-text-on-default-background));\n",
       "  background-size: 2px 100%;\n",
       "  background-repeat: no-repeat;\n",
       "  background-position: center center;\n",
       "}\n",
       "\n",
       "/* Parallel-specific style estimator block */\n",
       "\n",
       "#sk-container-id-4 div.sk-parallel-item::after {\n",
       "  content: \"\";\n",
       "  width: 100%;\n",
       "  border-bottom: 2px solid var(--sklearn-color-text-on-default-background);\n",
       "  flex-grow: 1;\n",
       "}\n",
       "\n",
       "#sk-container-id-4 div.sk-parallel {\n",
       "  display: flex;\n",
       "  align-items: stretch;\n",
       "  justify-content: center;\n",
       "  background-color: var(--sklearn-color-background);\n",
       "  position: relative;\n",
       "}\n",
       "\n",
       "#sk-container-id-4 div.sk-parallel-item {\n",
       "  display: flex;\n",
       "  flex-direction: column;\n",
       "}\n",
       "\n",
       "#sk-container-id-4 div.sk-parallel-item:first-child::after {\n",
       "  align-self: flex-end;\n",
       "  width: 50%;\n",
       "}\n",
       "\n",
       "#sk-container-id-4 div.sk-parallel-item:last-child::after {\n",
       "  align-self: flex-start;\n",
       "  width: 50%;\n",
       "}\n",
       "\n",
       "#sk-container-id-4 div.sk-parallel-item:only-child::after {\n",
       "  width: 0;\n",
       "}\n",
       "\n",
       "/* Serial-specific style estimator block */\n",
       "\n",
       "#sk-container-id-4 div.sk-serial {\n",
       "  display: flex;\n",
       "  flex-direction: column;\n",
       "  align-items: center;\n",
       "  background-color: var(--sklearn-color-background);\n",
       "  padding-right: 1em;\n",
       "  padding-left: 1em;\n",
       "}\n",
       "\n",
       "\n",
       "/* Toggleable style: style used for estimator/Pipeline/ColumnTransformer box that is\n",
       "clickable and can be expanded/collapsed.\n",
       "- Pipeline and ColumnTransformer use this feature and define the default style\n",
       "- Estimators will overwrite some part of the style using the `sk-estimator` class\n",
       "*/\n",
       "\n",
       "/* Pipeline and ColumnTransformer style (default) */\n",
       "\n",
       "#sk-container-id-4 div.sk-toggleable {\n",
       "  /* Default theme specific background. It is overwritten whether we have a\n",
       "  specific estimator or a Pipeline/ColumnTransformer */\n",
       "  background-color: var(--sklearn-color-background);\n",
       "}\n",
       "\n",
       "/* Toggleable label */\n",
       "#sk-container-id-4 label.sk-toggleable__label {\n",
       "  cursor: pointer;\n",
       "  display: flex;\n",
       "  width: 100%;\n",
       "  margin-bottom: 0;\n",
       "  padding: 0.5em;\n",
       "  box-sizing: border-box;\n",
       "  text-align: center;\n",
       "  align-items: start;\n",
       "  justify-content: space-between;\n",
       "  gap: 0.5em;\n",
       "}\n",
       "\n",
       "#sk-container-id-4 label.sk-toggleable__label .caption {\n",
       "  font-size: 0.6rem;\n",
       "  font-weight: lighter;\n",
       "  color: var(--sklearn-color-text-muted);\n",
       "}\n",
       "\n",
       "#sk-container-id-4 label.sk-toggleable__label-arrow:before {\n",
       "  /* Arrow on the left of the label */\n",
       "  content: \"▸\";\n",
       "  float: left;\n",
       "  margin-right: 0.25em;\n",
       "  color: var(--sklearn-color-icon);\n",
       "}\n",
       "\n",
       "#sk-container-id-4 label.sk-toggleable__label-arrow:hover:before {\n",
       "  color: var(--sklearn-color-text);\n",
       "}\n",
       "\n",
       "/* Toggleable content - dropdown */\n",
       "\n",
       "#sk-container-id-4 div.sk-toggleable__content {\n",
       "  max-height: 0;\n",
       "  max-width: 0;\n",
       "  overflow: hidden;\n",
       "  text-align: left;\n",
       "  /* unfitted */\n",
       "  background-color: var(--sklearn-color-unfitted-level-0);\n",
       "}\n",
       "\n",
       "#sk-container-id-4 div.sk-toggleable__content.fitted {\n",
       "  /* fitted */\n",
       "  background-color: var(--sklearn-color-fitted-level-0);\n",
       "}\n",
       "\n",
       "#sk-container-id-4 div.sk-toggleable__content pre {\n",
       "  margin: 0.2em;\n",
       "  border-radius: 0.25em;\n",
       "  color: var(--sklearn-color-text);\n",
       "  /* unfitted */\n",
       "  background-color: var(--sklearn-color-unfitted-level-0);\n",
       "}\n",
       "\n",
       "#sk-container-id-4 div.sk-toggleable__content.fitted pre {\n",
       "  /* unfitted */\n",
       "  background-color: var(--sklearn-color-fitted-level-0);\n",
       "}\n",
       "\n",
       "#sk-container-id-4 input.sk-toggleable__control:checked~div.sk-toggleable__content {\n",
       "  /* Expand drop-down */\n",
       "  max-height: 200px;\n",
       "  max-width: 100%;\n",
       "  overflow: auto;\n",
       "}\n",
       "\n",
       "#sk-container-id-4 input.sk-toggleable__control:checked~label.sk-toggleable__label-arrow:before {\n",
       "  content: \"▾\";\n",
       "}\n",
       "\n",
       "/* Pipeline/ColumnTransformer-specific style */\n",
       "\n",
       "#sk-container-id-4 div.sk-label input.sk-toggleable__control:checked~label.sk-toggleable__label {\n",
       "  color: var(--sklearn-color-text);\n",
       "  background-color: var(--sklearn-color-unfitted-level-2);\n",
       "}\n",
       "\n",
       "#sk-container-id-4 div.sk-label.fitted input.sk-toggleable__control:checked~label.sk-toggleable__label {\n",
       "  background-color: var(--sklearn-color-fitted-level-2);\n",
       "}\n",
       "\n",
       "/* Estimator-specific style */\n",
       "\n",
       "/* Colorize estimator box */\n",
       "#sk-container-id-4 div.sk-estimator input.sk-toggleable__control:checked~label.sk-toggleable__label {\n",
       "  /* unfitted */\n",
       "  background-color: var(--sklearn-color-unfitted-level-2);\n",
       "}\n",
       "\n",
       "#sk-container-id-4 div.sk-estimator.fitted input.sk-toggleable__control:checked~label.sk-toggleable__label {\n",
       "  /* fitted */\n",
       "  background-color: var(--sklearn-color-fitted-level-2);\n",
       "}\n",
       "\n",
       "#sk-container-id-4 div.sk-label label.sk-toggleable__label,\n",
       "#sk-container-id-4 div.sk-label label {\n",
       "  /* The background is the default theme color */\n",
       "  color: var(--sklearn-color-text-on-default-background);\n",
       "}\n",
       "\n",
       "/* On hover, darken the color of the background */\n",
       "#sk-container-id-4 div.sk-label:hover label.sk-toggleable__label {\n",
       "  color: var(--sklearn-color-text);\n",
       "  background-color: var(--sklearn-color-unfitted-level-2);\n",
       "}\n",
       "\n",
       "/* Label box, darken color on hover, fitted */\n",
       "#sk-container-id-4 div.sk-label.fitted:hover label.sk-toggleable__label.fitted {\n",
       "  color: var(--sklearn-color-text);\n",
       "  background-color: var(--sklearn-color-fitted-level-2);\n",
       "}\n",
       "\n",
       "/* Estimator label */\n",
       "\n",
       "#sk-container-id-4 div.sk-label label {\n",
       "  font-family: monospace;\n",
       "  font-weight: bold;\n",
       "  display: inline-block;\n",
       "  line-height: 1.2em;\n",
       "}\n",
       "\n",
       "#sk-container-id-4 div.sk-label-container {\n",
       "  text-align: center;\n",
       "}\n",
       "\n",
       "/* Estimator-specific */\n",
       "#sk-container-id-4 div.sk-estimator {\n",
       "  font-family: monospace;\n",
       "  border: 1px dotted var(--sklearn-color-border-box);\n",
       "  border-radius: 0.25em;\n",
       "  box-sizing: border-box;\n",
       "  margin-bottom: 0.5em;\n",
       "  /* unfitted */\n",
       "  background-color: var(--sklearn-color-unfitted-level-0);\n",
       "}\n",
       "\n",
       "#sk-container-id-4 div.sk-estimator.fitted {\n",
       "  /* fitted */\n",
       "  background-color: var(--sklearn-color-fitted-level-0);\n",
       "}\n",
       "\n",
       "/* on hover */\n",
       "#sk-container-id-4 div.sk-estimator:hover {\n",
       "  /* unfitted */\n",
       "  background-color: var(--sklearn-color-unfitted-level-2);\n",
       "}\n",
       "\n",
       "#sk-container-id-4 div.sk-estimator.fitted:hover {\n",
       "  /* fitted */\n",
       "  background-color: var(--sklearn-color-fitted-level-2);\n",
       "}\n",
       "\n",
       "/* Specification for estimator info (e.g. \"i\" and \"?\") */\n",
       "\n",
       "/* Common style for \"i\" and \"?\" */\n",
       "\n",
       ".sk-estimator-doc-link,\n",
       "a:link.sk-estimator-doc-link,\n",
       "a:visited.sk-estimator-doc-link {\n",
       "  float: right;\n",
       "  font-size: smaller;\n",
       "  line-height: 1em;\n",
       "  font-family: monospace;\n",
       "  background-color: var(--sklearn-color-background);\n",
       "  border-radius: 1em;\n",
       "  height: 1em;\n",
       "  width: 1em;\n",
       "  text-decoration: none !important;\n",
       "  margin-left: 0.5em;\n",
       "  text-align: center;\n",
       "  /* unfitted */\n",
       "  border: var(--sklearn-color-unfitted-level-1) 1pt solid;\n",
       "  color: var(--sklearn-color-unfitted-level-1);\n",
       "}\n",
       "\n",
       ".sk-estimator-doc-link.fitted,\n",
       "a:link.sk-estimator-doc-link.fitted,\n",
       "a:visited.sk-estimator-doc-link.fitted {\n",
       "  /* fitted */\n",
       "  border: var(--sklearn-color-fitted-level-1) 1pt solid;\n",
       "  color: var(--sklearn-color-fitted-level-1);\n",
       "}\n",
       "\n",
       "/* On hover */\n",
       "div.sk-estimator:hover .sk-estimator-doc-link:hover,\n",
       ".sk-estimator-doc-link:hover,\n",
       "div.sk-label-container:hover .sk-estimator-doc-link:hover,\n",
       ".sk-estimator-doc-link:hover {\n",
       "  /* unfitted */\n",
       "  background-color: var(--sklearn-color-unfitted-level-3);\n",
       "  color: var(--sklearn-color-background);\n",
       "  text-decoration: none;\n",
       "}\n",
       "\n",
       "div.sk-estimator.fitted:hover .sk-estimator-doc-link.fitted:hover,\n",
       ".sk-estimator-doc-link.fitted:hover,\n",
       "div.sk-label-container:hover .sk-estimator-doc-link.fitted:hover,\n",
       ".sk-estimator-doc-link.fitted:hover {\n",
       "  /* fitted */\n",
       "  background-color: var(--sklearn-color-fitted-level-3);\n",
       "  color: var(--sklearn-color-background);\n",
       "  text-decoration: none;\n",
       "}\n",
       "\n",
       "/* Span, style for the box shown on hovering the info icon */\n",
       ".sk-estimator-doc-link span {\n",
       "  display: none;\n",
       "  z-index: 9999;\n",
       "  position: relative;\n",
       "  font-weight: normal;\n",
       "  right: .2ex;\n",
       "  padding: .5ex;\n",
       "  margin: .5ex;\n",
       "  width: min-content;\n",
       "  min-width: 20ex;\n",
       "  max-width: 50ex;\n",
       "  color: var(--sklearn-color-text);\n",
       "  box-shadow: 2pt 2pt 4pt #999;\n",
       "  /* unfitted */\n",
       "  background: var(--sklearn-color-unfitted-level-0);\n",
       "  border: .5pt solid var(--sklearn-color-unfitted-level-3);\n",
       "}\n",
       "\n",
       ".sk-estimator-doc-link.fitted span {\n",
       "  /* fitted */\n",
       "  background: var(--sklearn-color-fitted-level-0);\n",
       "  border: var(--sklearn-color-fitted-level-3);\n",
       "}\n",
       "\n",
       ".sk-estimator-doc-link:hover span {\n",
       "  display: block;\n",
       "}\n",
       "\n",
       "/* \"?\"-specific style due to the `<a>` HTML tag */\n",
       "\n",
       "#sk-container-id-4 a.estimator_doc_link {\n",
       "  float: right;\n",
       "  font-size: 1rem;\n",
       "  line-height: 1em;\n",
       "  font-family: monospace;\n",
       "  background-color: var(--sklearn-color-background);\n",
       "  border-radius: 1rem;\n",
       "  height: 1rem;\n",
       "  width: 1rem;\n",
       "  text-decoration: none;\n",
       "  /* unfitted */\n",
       "  color: var(--sklearn-color-unfitted-level-1);\n",
       "  border: var(--sklearn-color-unfitted-level-1) 1pt solid;\n",
       "}\n",
       "\n",
       "#sk-container-id-4 a.estimator_doc_link.fitted {\n",
       "  /* fitted */\n",
       "  border: var(--sklearn-color-fitted-level-1) 1pt solid;\n",
       "  color: var(--sklearn-color-fitted-level-1);\n",
       "}\n",
       "\n",
       "/* On hover */\n",
       "#sk-container-id-4 a.estimator_doc_link:hover {\n",
       "  /* unfitted */\n",
       "  background-color: var(--sklearn-color-unfitted-level-3);\n",
       "  color: var(--sklearn-color-background);\n",
       "  text-decoration: none;\n",
       "}\n",
       "\n",
       "#sk-container-id-4 a.estimator_doc_link.fitted:hover {\n",
       "  /* fitted */\n",
       "  background-color: var(--sklearn-color-fitted-level-3);\n",
       "}\n",
       "</style><div id=\"sk-container-id-4\" class=\"sk-top-container\"><div class=\"sk-text-repr-fallback\"><pre>KNeighborsRegressor()</pre><b>In a Jupyter environment, please rerun this cell to show the HTML representation or trust the notebook. <br />On GitHub, the HTML representation is unable to render, please try loading this page with nbviewer.org.</b></div><div class=\"sk-container\" hidden><div class=\"sk-item\"><div class=\"sk-estimator fitted sk-toggleable\"><input class=\"sk-toggleable__control sk-hidden--visually\" id=\"sk-estimator-id-4\" type=\"checkbox\" checked><label for=\"sk-estimator-id-4\" class=\"sk-toggleable__label fitted sk-toggleable__label-arrow\"><div><div>KNeighborsRegressor</div></div><div><a class=\"sk-estimator-doc-link fitted\" rel=\"noreferrer\" target=\"_blank\" href=\"https://scikit-learn.org/1.6/modules/generated/sklearn.neighbors.KNeighborsRegressor.html\">?<span>Documentation for KNeighborsRegressor</span></a><span class=\"sk-estimator-doc-link fitted\">i<span>Fitted</span></span></div></label><div class=\"sk-toggleable__content fitted\"><pre>KNeighborsRegressor()</pre></div> </div></div></div></div>"
      ],
      "text/plain": [
       "KNeighborsRegressor()"
      ]
     },
     "execution_count": 89,
     "metadata": {},
     "output_type": "execute_result"
    }
   ],
   "source": [
    "linear_model.fit(x_train,y_train)\n",
    "poly_model.fit(x_train_poly,y_train)\n",
    "xgb_model.fit(x_train,y_train)\n",
    "tree_model.fit(x_train,y_train)\n",
    "forest_model.fit(x_train,y_train)\n",
    "gradient_model.fit(x_train,y_train)\n",
    "vector_model.fit(x_train_scale,y_train)\n",
    "knn_model.fit(x_train_scale,y_train)"
   ]
  },
  {
   "cell_type": "markdown",
   "id": "37eb8aab",
   "metadata": {},
   "source": [
    "Trained Models Load in Pickle file\n"
   ]
  },
  {
   "cell_type": "code",
   "execution_count": null,
   "id": "310dc85d",
   "metadata": {},
   "outputs": [],
   "source": [
    "import joblib\n",
    "with open(\"Trained_models.pkl\",\"wb\")  as file:\n",
    "    joblib.dump(Models,file)"
   ]
  },
  {
   "cell_type": "markdown",
   "id": "cb142ddc",
   "metadata": {},
   "source": [
    "MODEL PREDICTION\n"
   ]
  },
  {
   "cell_type": "code",
   "execution_count": 91,
   "id": "e01af6d0",
   "metadata": {},
   "outputs": [],
   "source": [
    "linear_ypred=linear_model.predict(x_test)\n",
    "poly_ypred=poly_model.predict(x_test_poly)\n",
    "xgb_ypred=xgb_model.predict(x_test)\n",
    "tree_ypred=tree_model.predict(x_test)\n",
    "forest_ypred=forest_model.predict(x_test)\n",
    "gradient_ypred=gradient_model.predict(x_test)\n",
    "vector_ypred=vector_model.predict(x_test_scale)\n",
    "knn_ypred=knn_model.predict(x_test_scale)\n"
   ]
  },
  {
   "cell_type": "markdown",
   "id": "b7a4f7ef",
   "metadata": {},
   "source": [
    "R square score(High) and Mean squared error(Low)\n"
   ]
  },
  {
   "cell_type": "code",
   "execution_count": 92,
   "id": "9879c98e",
   "metadata": {},
   "outputs": [
    {
     "name": "stdout",
     "output_type": "stream",
     "text": [
      " LinearRegressor: \n",
      " R2_score 0.8350136694105859 \n",
      " MSE: 60891.46920221468 \n",
      "\n",
      "PolynomialFeatures: \n",
      " R2_score 0.8401382758396121 \n",
      " MSE 59000.13182031316 \n",
      "\n",
      "XGBRegressor: \n",
      " R2_score 0.9978581332397092 \n",
      " MSE 790.4983000928755 \n",
      "\n",
      "DecisionTreeRegressor: \n",
      " R2_score 0.9971629732162363 \n",
      " MSE 1047.0608589951376 \n",
      "\n",
      "RandomForestRegressor: \n",
      " R2_score 0.9977667893634826 \n",
      " MSE 824.2105646555924 \n",
      "\n",
      "GradientBoostRegrssor: \n",
      " R2_score 0.9900451612863175 \n",
      " MSE 3674.030162266703 \n",
      "\n",
      "SupportVectorRegressor: \n",
      " R2_score 0.505027933545228 \n",
      " MSE 182679.2330783622 \n",
      "\n",
      "KNeighborsRegressor: \n",
      " R2_score 0.9554736253430836 \n",
      " MSE 16433.339425283633\n"
     ]
    }
   ],
   "source": [
    "from sklearn.metrics import r2_score,mean_squared_error\n",
    "print(\" LinearRegressor:\" ,'\\n',\"R2_score\",r2_score(y_test,linear_ypred),'\\n',\"MSE:\",mean_squared_error(y_test,linear_ypred),'\\n')\n",
    "print(\"PolynomialFeatures:\",'\\n',\"R2_score\",r2_score(y_test,poly_ypred),'\\n',\"MSE\",mean_squared_error(y_test,poly_ypred),'\\n')\n",
    "print(\"XGBRegressor:\",'\\n',\"R2_score\",r2_score(y_test,xgb_ypred),'\\n',\"MSE\",mean_squared_error(y_test,xgb_ypred),'\\n')\n",
    "print(\"DecisionTreeRegressor:\",'\\n',\"R2_score\",r2_score(y_test,tree_ypred),'\\n',\"MSE\",mean_squared_error(y_test,tree_ypred),'\\n')\n",
    "print(\"RandomForestRegressor:\",'\\n',\"R2_score\",r2_score(y_test,forest_ypred),'\\n',\"MSE\",mean_squared_error(y_test,forest_ypred),'\\n')\n",
    "print(\"GradientBoostRegrssor:\",'\\n',\"R2_score\",r2_score(y_test,gradient_ypred),'\\n',\"MSE\",mean_squared_error(y_test,gradient_ypred),'\\n')\n",
    "print(\"SupportVectorRegressor:\",'\\n',\"R2_score\",r2_score(y_test,vector_ypred),'\\n',\"MSE\",mean_squared_error(y_test,vector_ypred),'\\n')\n",
    "print(\"KNeighborsRegressor:\",'\\n',\"R2_score\",r2_score(y_test,knn_ypred),'\\n',\"MSE\",mean_squared_error(y_test,knn_ypred))"
   ]
  },
  {
   "cell_type": "code",
   "execution_count": null,
   "id": "405f37d4",
   "metadata": {},
   "outputs": [],
   "source": []
  }
 ],
 "metadata": {
  "kernelspec": {
   "display_name": "Python 3",
   "language": "python",
   "name": "python3"
  },
  "language_info": {
   "codemirror_mode": {
    "name": "ipython",
    "version": 3
   },
   "file_extension": ".py",
   "mimetype": "text/x-python",
   "name": "python",
   "nbconvert_exporter": "python",
   "pygments_lexer": "ipython3",
   "version": "3.9.6"
  }
 },
 "nbformat": 4,
 "nbformat_minor": 5
}
